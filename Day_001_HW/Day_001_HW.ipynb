{
 "cells": [
  {
   "cell_type": "markdown",
   "metadata": {},
   "source": [
    "1. 你選的這組資料為何重要:\n",
    "   google play store 已經是生活不可或缺的工具，透過分析各種app之下載熱度與使用者回饋心   得，可更加了解目前消費者喜好與各類產品優缺點。\n",
    "\n",
    "2. 資料從何而來 (tips: 譬如提供者是誰、以什麼方式蒐集)\n",
    "    Lavanya Gupta\n",
    "    Software Engineer at HSBC Software Development\n",
    "    Pune, Maharashtra, India\n",
    "    \n",
    "3. 蒐集而來的資料型態為何\n",
    "    csv\n",
    "4. 這組資料想解決的問題如何評估\n",
    "    The Play Store apps data has enormous potential to drive app-making businesses to success. Actionable insights can be drawn for developers to work on and capture the Android market!"
   ]
  },
  {
   "cell_type": "code",
   "execution_count": null,
   "metadata": {},
   "outputs": [],
   "source": []
  }
 ],
 "metadata": {
  "kernelspec": {
   "display_name": "Python 3",
   "language": "python",
   "name": "python3"
  },
  "language_info": {
   "codemirror_mode": {
    "name": "ipython",
    "version": 3
   },
   "file_extension": ".py",
   "mimetype": "text/x-python",
   "name": "python",
   "nbconvert_exporter": "python",
   "pygments_lexer": "ipython3",
   "version": "3.7.2"
  }
 },
 "nbformat": 4,
 "nbformat_minor": 2
}
